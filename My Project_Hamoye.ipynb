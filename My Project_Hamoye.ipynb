{
 "cells": [
  {
   "cell_type": "code",
   "execution_count": 118,
   "id": "acc86284",
   "metadata": {},
   "outputs": [
    {
     "name": "stdout",
     "output_type": "stream",
     "text": [
      "    Area Code     Area  Item Code                      Item  Element Code  \\\n",
      "0           4  Algeria       2501                Population           511   \n",
      "1           4  Algeria       2501                Population          5301   \n",
      "2           4  Algeria       2901               Grand Total           664   \n",
      "3           4  Algeria       2901               Grand Total           674   \n",
      "4           4  Algeria       2901               Grand Total           684   \n",
      "5           4  Algeria       2903          Vegetal Products           664   \n",
      "6           4  Algeria       2903          Vegetal Products           674   \n",
      "7           4  Algeria       2903          Vegetal Products           684   \n",
      "8           4  Algeria       2941           Animal Products           664   \n",
      "9           4  Algeria       2941           Animal Products           674   \n",
      "10          4  Algeria       2941           Animal Products           684   \n",
      "11          4  Algeria       2905  Cereals - Excluding Beer          5511   \n",
      "12          4  Algeria       2905  Cereals - Excluding Beer          5611   \n",
      "13          4  Algeria       2905  Cereals - Excluding Beer          5072   \n",
      "14          4  Algeria       2905  Cereals - Excluding Beer          5911   \n",
      "15          4  Algeria       2905  Cereals - Excluding Beer          5301   \n",
      "16          4  Algeria       2905  Cereals - Excluding Beer          5521   \n",
      "17          4  Algeria       2905  Cereals - Excluding Beer          5527   \n",
      "18          4  Algeria       2905  Cereals - Excluding Beer          5123   \n",
      "19          4  Algeria       2905  Cereals - Excluding Beer          5131   \n",
      "\n",
      "                                   Element             Unit     Y2014  \\\n",
      "0            Total Population - Both sexes     1000 persons  38924.00   \n",
      "1                 Domestic supply quantity      1000 tonnes      0.00   \n",
      "2            Food supply (kcal/capita/day)  kcal/capita/day   3377.00   \n",
      "3   Protein supply quantity (g/capita/day)     g/capita/day     94.90   \n",
      "4       Fat supply quantity (g/capita/day)     g/capita/day     80.06   \n",
      "5            Food supply (kcal/capita/day)  kcal/capita/day   2932.00   \n",
      "6   Protein supply quantity (g/capita/day)     g/capita/day     67.14   \n",
      "7       Fat supply quantity (g/capita/day)     g/capita/day     53.84   \n",
      "8            Food supply (kcal/capita/day)  kcal/capita/day    444.00   \n",
      "9   Protein supply quantity (g/capita/day)     g/capita/day     27.76   \n",
      "10      Fat supply quantity (g/capita/day)     g/capita/day     26.22   \n",
      "11                              Production      1000 tonnes   3436.00   \n",
      "12                         Import Quantity      1000 tonnes  12604.00   \n",
      "13                         Stock Variation      1000 tonnes    684.00   \n",
      "14                         Export Quantity      1000 tonnes      3.00   \n",
      "15                Domestic supply quantity      1000 tonnes  15353.00   \n",
      "16                                    Feed      1000 tonnes   4725.00   \n",
      "17                                    Seed      1000 tonnes    177.00   \n",
      "18                                  Losses      1000 tonnes   1084.00   \n",
      "19                              Processing      1000 tonnes     35.00   \n",
      "\n",
      "       Y2015     Y2016     Y2017     Y2018  \n",
      "0   39728.00  40551.00  41389.00  42228.00  \n",
      "1       0.00      0.00      0.00      0.00  \n",
      "2    3379.00   3372.00   3341.00   3322.00  \n",
      "3      94.35     94.72     92.82     91.83  \n",
      "4      79.36     77.40     80.19     77.28  \n",
      "5    2958.00   2941.00   2921.00   2932.00  \n",
      "6      67.38     67.37     66.11     67.10  \n",
      "7      54.72     52.04     55.59     54.57  \n",
      "8     421.00    431.00    421.00    390.00  \n",
      "9      26.97     27.35     26.71     24.73  \n",
      "10     24.64     25.37     24.60     22.71  \n",
      "11   3761.00   3445.00   3478.00   6065.00  \n",
      "12  13983.00  13523.00  13039.00  13182.00  \n",
      "13   1663.00    905.00    705.00   2226.00  \n",
      "14      7.00      7.00     10.00     17.00  \n",
      "15  16075.00  16056.00  15803.00  17004.00  \n",
      "16   5070.00   4838.00   4667.00   5266.00  \n",
      "17    189.00    197.00    202.00    278.00  \n",
      "18   1203.00   1148.00   1121.00   1253.00  \n",
      "19     38.00     37.00     33.00     44.00  \n"
     ]
    }
   ],
   "source": [
    "\n",
    "import numpy as np\n",
    "import pandas as pd\n",
    "\n",
    "\n",
    "url = pd.read_csv(r\"C:\\Users\\TENECE\\Downloads\\food.csv\", encoding='Latin')\n",
    "print(url.head(20))\n",
    "\n"
   ]
  },
  {
   "cell_type": "code",
   "execution_count": null,
   "id": "e2ff50cd",
   "metadata": {},
   "outputs": [],
   "source": []
  },
  {
   "cell_type": "code",
   "execution_count": 78,
   "id": "e10a28a0",
   "metadata": {},
   "outputs": [
    {
     "data": {
      "text/html": [
       "<div>\n",
       "<style scoped>\n",
       "    .dataframe tbody tr th:only-of-type {\n",
       "        vertical-align: middle;\n",
       "    }\n",
       "\n",
       "    .dataframe tbody tr th {\n",
       "        vertical-align: top;\n",
       "    }\n",
       "\n",
       "    .dataframe thead th {\n",
       "        text-align: right;\n",
       "    }\n",
       "</style>\n",
       "<table border=\"1\" class=\"dataframe\">\n",
       "  <thead>\n",
       "    <tr style=\"text-align: right;\">\n",
       "      <th></th>\n",
       "      <th>Area Code</th>\n",
       "      <th>Area</th>\n",
       "      <th>Item Code</th>\n",
       "      <th>Item</th>\n",
       "      <th>Element Code</th>\n",
       "      <th>Element</th>\n",
       "      <th>Unit</th>\n",
       "      <th>Y2014</th>\n",
       "      <th>Y2015</th>\n",
       "      <th>Y2016</th>\n",
       "      <th>Y2017</th>\n",
       "      <th>Y2018</th>\n",
       "    </tr>\n",
       "  </thead>\n",
       "  <tbody>\n",
       "    <tr>\n",
       "      <th>count</th>\n",
       "      <td>60943.000000</td>\n",
       "      <td>60943</td>\n",
       "      <td>60943.000000</td>\n",
       "      <td>60943</td>\n",
       "      <td>60943.000000</td>\n",
       "      <td>60943</td>\n",
       "      <td>60943</td>\n",
       "      <td>59354.000000</td>\n",
       "      <td>59395.000000</td>\n",
       "      <td>59408.000000</td>\n",
       "      <td>59437.000000</td>\n",
       "      <td>59507.000000</td>\n",
       "    </tr>\n",
       "    <tr>\n",
       "      <th>unique</th>\n",
       "      <td>NaN</td>\n",
       "      <td>49</td>\n",
       "      <td>NaN</td>\n",
       "      <td>119</td>\n",
       "      <td>NaN</td>\n",
       "      <td>18</td>\n",
       "      <td>5</td>\n",
       "      <td>NaN</td>\n",
       "      <td>NaN</td>\n",
       "      <td>NaN</td>\n",
       "      <td>NaN</td>\n",
       "      <td>NaN</td>\n",
       "    </tr>\n",
       "    <tr>\n",
       "      <th>top</th>\n",
       "      <td>NaN</td>\n",
       "      <td>Kenya</td>\n",
       "      <td>NaN</td>\n",
       "      <td>Milk - Excluding Butter</td>\n",
       "      <td>NaN</td>\n",
       "      <td>Domestic supply quantity</td>\n",
       "      <td>1000 tonnes</td>\n",
       "      <td>NaN</td>\n",
       "      <td>NaN</td>\n",
       "      <td>NaN</td>\n",
       "      <td>NaN</td>\n",
       "      <td>NaN</td>\n",
       "    </tr>\n",
       "    <tr>\n",
       "      <th>freq</th>\n",
       "      <td>NaN</td>\n",
       "      <td>1560</td>\n",
       "      <td>NaN</td>\n",
       "      <td>1262</td>\n",
       "      <td>NaN</td>\n",
       "      <td>5295</td>\n",
       "      <td>40933</td>\n",
       "      <td>NaN</td>\n",
       "      <td>NaN</td>\n",
       "      <td>NaN</td>\n",
       "      <td>NaN</td>\n",
       "      <td>NaN</td>\n",
       "    </tr>\n",
       "    <tr>\n",
       "      <th>mean</th>\n",
       "      <td>134.265576</td>\n",
       "      <td>NaN</td>\n",
       "      <td>2687.176706</td>\n",
       "      <td>NaN</td>\n",
       "      <td>3814.856456</td>\n",
       "      <td>NaN</td>\n",
       "      <td>NaN</td>\n",
       "      <td>134.196282</td>\n",
       "      <td>135.235966</td>\n",
       "      <td>136.555222</td>\n",
       "      <td>140.917765</td>\n",
       "      <td>143.758381</td>\n",
       "    </tr>\n",
       "    <tr>\n",
       "      <th>std</th>\n",
       "      <td>72.605709</td>\n",
       "      <td>NaN</td>\n",
       "      <td>146.055739</td>\n",
       "      <td>NaN</td>\n",
       "      <td>2212.007033</td>\n",
       "      <td>NaN</td>\n",
       "      <td>NaN</td>\n",
       "      <td>1567.663696</td>\n",
       "      <td>1603.403984</td>\n",
       "      <td>1640.007194</td>\n",
       "      <td>1671.862359</td>\n",
       "      <td>1710.782658</td>\n",
       "    </tr>\n",
       "    <tr>\n",
       "      <th>min</th>\n",
       "      <td>4.000000</td>\n",
       "      <td>NaN</td>\n",
       "      <td>2501.000000</td>\n",
       "      <td>NaN</td>\n",
       "      <td>511.000000</td>\n",
       "      <td>NaN</td>\n",
       "      <td>NaN</td>\n",
       "      <td>-1796.000000</td>\n",
       "      <td>-3161.000000</td>\n",
       "      <td>-3225.000000</td>\n",
       "      <td>-1582.000000</td>\n",
       "      <td>-3396.000000</td>\n",
       "    </tr>\n",
       "    <tr>\n",
       "      <th>25%</th>\n",
       "      <td>74.000000</td>\n",
       "      <td>NaN</td>\n",
       "      <td>2562.000000</td>\n",
       "      <td>NaN</td>\n",
       "      <td>684.000000</td>\n",
       "      <td>NaN</td>\n",
       "      <td>NaN</td>\n",
       "      <td>0.000000</td>\n",
       "      <td>0.000000</td>\n",
       "      <td>0.000000</td>\n",
       "      <td>0.000000</td>\n",
       "      <td>0.000000</td>\n",
       "    </tr>\n",
       "    <tr>\n",
       "      <th>50%</th>\n",
       "      <td>136.000000</td>\n",
       "      <td>NaN</td>\n",
       "      <td>2630.000000</td>\n",
       "      <td>NaN</td>\n",
       "      <td>5142.000000</td>\n",
       "      <td>NaN</td>\n",
       "      <td>NaN</td>\n",
       "      <td>0.090000</td>\n",
       "      <td>0.080000</td>\n",
       "      <td>0.080000</td>\n",
       "      <td>0.100000</td>\n",
       "      <td>0.070000</td>\n",
       "    </tr>\n",
       "    <tr>\n",
       "      <th>75%</th>\n",
       "      <td>195.000000</td>\n",
       "      <td>NaN</td>\n",
       "      <td>2775.000000</td>\n",
       "      <td>NaN</td>\n",
       "      <td>5511.000000</td>\n",
       "      <td>NaN</td>\n",
       "      <td>NaN</td>\n",
       "      <td>8.340000</td>\n",
       "      <td>8.460000</td>\n",
       "      <td>8.430000</td>\n",
       "      <td>9.000000</td>\n",
       "      <td>9.000000</td>\n",
       "    </tr>\n",
       "    <tr>\n",
       "      <th>max</th>\n",
       "      <td>276.000000</td>\n",
       "      <td>NaN</td>\n",
       "      <td>2961.000000</td>\n",
       "      <td>NaN</td>\n",
       "      <td>5911.000000</td>\n",
       "      <td>NaN</td>\n",
       "      <td>NaN</td>\n",
       "      <td>176405.000000</td>\n",
       "      <td>181137.000000</td>\n",
       "      <td>185960.000000</td>\n",
       "      <td>190873.000000</td>\n",
       "      <td>195875.000000</td>\n",
       "    </tr>\n",
       "  </tbody>\n",
       "</table>\n",
       "</div>"
      ],
      "text/plain": [
       "           Area Code   Area     Item Code                     Item  \\\n",
       "count   60943.000000  60943  60943.000000                    60943   \n",
       "unique           NaN     49           NaN                      119   \n",
       "top              NaN  Kenya           NaN  Milk - Excluding Butter   \n",
       "freq             NaN   1560           NaN                     1262   \n",
       "mean      134.265576    NaN   2687.176706                      NaN   \n",
       "std        72.605709    NaN    146.055739                      NaN   \n",
       "min         4.000000    NaN   2501.000000                      NaN   \n",
       "25%        74.000000    NaN   2562.000000                      NaN   \n",
       "50%       136.000000    NaN   2630.000000                      NaN   \n",
       "75%       195.000000    NaN   2775.000000                      NaN   \n",
       "max       276.000000    NaN   2961.000000                      NaN   \n",
       "\n",
       "        Element Code                   Element         Unit          Y2014  \\\n",
       "count   60943.000000                     60943        60943   59354.000000   \n",
       "unique           NaN                        18            5            NaN   \n",
       "top              NaN  Domestic supply quantity  1000 tonnes            NaN   \n",
       "freq             NaN                      5295        40933            NaN   \n",
       "mean     3814.856456                       NaN          NaN     134.196282   \n",
       "std      2212.007033                       NaN          NaN    1567.663696   \n",
       "min       511.000000                       NaN          NaN   -1796.000000   \n",
       "25%       684.000000                       NaN          NaN       0.000000   \n",
       "50%      5142.000000                       NaN          NaN       0.090000   \n",
       "75%      5511.000000                       NaN          NaN       8.340000   \n",
       "max      5911.000000                       NaN          NaN  176405.000000   \n",
       "\n",
       "                Y2015          Y2016          Y2017          Y2018  \n",
       "count    59395.000000   59408.000000   59437.000000   59507.000000  \n",
       "unique            NaN            NaN            NaN            NaN  \n",
       "top               NaN            NaN            NaN            NaN  \n",
       "freq              NaN            NaN            NaN            NaN  \n",
       "mean       135.235966     136.555222     140.917765     143.758381  \n",
       "std       1603.403984    1640.007194    1671.862359    1710.782658  \n",
       "min      -3161.000000   -3225.000000   -1582.000000   -3396.000000  \n",
       "25%          0.000000       0.000000       0.000000       0.000000  \n",
       "50%          0.080000       0.080000       0.100000       0.070000  \n",
       "75%          8.460000       8.430000       9.000000       9.000000  \n",
       "max     181137.000000  185960.000000  190873.000000  195875.000000  "
      ]
     },
     "execution_count": 78,
     "metadata": {},
     "output_type": "execute_result"
    }
   ],
   "source": [
    "url.describe(include = 'all')"
   ]
  },
  {
   "cell_type": "code",
   "execution_count": 61,
   "id": "2fb4fec4",
   "metadata": {},
   "outputs": [
    {
     "data": {
      "text/plain": [
       "Area Code          0\n",
       "Area               0\n",
       "Item Code          0\n",
       "Item               0\n",
       "Element Code       0\n",
       "Element            0\n",
       "Unit               0\n",
       "Y2014           1589\n",
       "Y2015           1548\n",
       "Y2016           1535\n",
       "Y2017           1506\n",
       "Y2018           1436\n",
       "dtype: int64"
      ]
     },
     "execution_count": 61,
     "metadata": {},
     "output_type": "execute_result"
    }
   ],
   "source": [
    "#total null values\n",
    "url.isnull().sum()"
   ]
  },
  {
   "cell_type": "code",
   "execution_count": 7,
   "id": "2b122f95",
   "metadata": {},
   "outputs": [
    {
     "data": {
      "text/plain": [
       "False"
      ]
     },
     "execution_count": 7,
     "metadata": {},
     "output_type": "execute_result"
    }
   ],
   "source": [
    "#checking duplicate values\n",
    "url.duplicated().any()"
   ]
  },
  {
   "cell_type": "code",
   "execution_count": 67,
   "id": "4583343d",
   "metadata": {},
   "outputs": [
    {
     "name": "stdout",
     "output_type": "stream",
     "text": [
      "1535\n",
      "60943\n"
     ]
    }
   ],
   "source": [
    "#total null values of 2016\n",
    "sum_null = url[\"Y2016\"].isnull().sum()\n",
    "print(sum_null)\n",
    "#count_null = url[\"Y2016\"].isnull()\n",
    "count_null = url[\"Y2016\"].isnull().count()\n",
    "print(count_null)\n",
    "\n"
   ]
  },
  {
   "cell_type": "code",
   "execution_count": 70,
   "id": "d348ca1f",
   "metadata": {},
   "outputs": [
    {
     "name": "stdout",
     "output_type": "stream",
     "text": [
      "2.518747025909456\n"
     ]
    }
   ],
   "source": [
    "#calculating percentage\n",
    "percent_missing = url[\"Y2016\"].isnull().sum() * 100 / len(url)\n",
    "print(percent_missing)"
   ]
  },
  {
   "cell_type": "code",
   "execution_count": 47,
   "id": "d60cefd4",
   "metadata": {},
   "outputs": [
    {
     "name": "stdout",
     "output_type": "stream",
     "text": [
      "       Area Code      Area  Item Code           Item  Element Code  \\\n",
      "0              4   Algeria       2501     Population           511   \n",
      "1              4   Algeria       2501     Population          5301   \n",
      "2              4   Algeria       2901    Grand Total           664   \n",
      "3              4   Algeria       2901    Grand Total           674   \n",
      "4              4   Algeria       2901    Grand Total           684   \n",
      "...          ...       ...        ...            ...           ...   \n",
      "60938        181  Zimbabwe       2899  Miscellaneous          5142   \n",
      "60939        181  Zimbabwe       2899  Miscellaneous           645   \n",
      "60940        181  Zimbabwe       2899  Miscellaneous           664   \n",
      "60941        181  Zimbabwe       2899  Miscellaneous           674   \n",
      "60942        181  Zimbabwe       2899  Miscellaneous           684   \n",
      "\n",
      "                                      Element             Unit     Y2014  \\\n",
      "0               Total Population - Both sexes     1000 persons  38924.00   \n",
      "1                    Domestic supply quantity      1000 tonnes      0.00   \n",
      "2               Food supply (kcal/capita/day)  kcal/capita/day   3377.00   \n",
      "3      Protein supply quantity (g/capita/day)     g/capita/day     94.90   \n",
      "4          Fat supply quantity (g/capita/day)     g/capita/day     80.06   \n",
      "...                                       ...              ...       ...   \n",
      "60938                                    Food      1000 tonnes     42.00   \n",
      "60939     Food supply quantity (kg/capita/yr)               kg      3.06   \n",
      "60940           Food supply (kcal/capita/day)  kcal/capita/day      3.00   \n",
      "60941  Protein supply quantity (g/capita/day)     g/capita/day      0.10   \n",
      "60942      Fat supply quantity (g/capita/day)     g/capita/day      0.04   \n",
      "\n",
      "          Y2015     Y2016     Y2017     Y2018  \n",
      "0      39728.00  40551.00  41389.00  42228.00  \n",
      "1          0.00      0.00      0.00      0.00  \n",
      "2       3379.00   3372.00   3341.00   3322.00  \n",
      "3         94.35     94.72     92.82     91.83  \n",
      "4         79.36     77.40     80.19     77.28  \n",
      "...         ...       ...       ...       ...  \n",
      "60938     46.00     33.00     19.00     16.00  \n",
      "60939      3.33      2.35      1.33      1.08  \n",
      "60940      4.00      3.00      1.00      1.00  \n",
      "60941      0.11      0.08      0.04      0.04  \n",
      "60942      0.05      0.03      0.02      0.01  \n",
      "\n",
      "[60943 rows x 12 columns]\n"
     ]
    }
   ],
   "source": [
    "#replacing null value with most occuring value\n",
    "#for i in url.columns:\n",
    " #url[i].fillna(url[i].mode()[0], inplace=False)\n",
    "#print(url)"
   ]
  },
  {
   "cell_type": "code",
   "execution_count": 21,
   "id": "1d634419",
   "metadata": {},
   "outputs": [
    {
     "data": {
      "text/html": [
       "<div>\n",
       "<style scoped>\n",
       "    .dataframe tbody tr th:only-of-type {\n",
       "        vertical-align: middle;\n",
       "    }\n",
       "\n",
       "    .dataframe tbody tr th {\n",
       "        vertical-align: top;\n",
       "    }\n",
       "\n",
       "    .dataframe thead th {\n",
       "        text-align: right;\n",
       "    }\n",
       "</style>\n",
       "<table border=\"1\" class=\"dataframe\">\n",
       "  <thead>\n",
       "    <tr style=\"text-align: right;\">\n",
       "      <th></th>\n",
       "      <th>Item</th>\n",
       "      <th>sum_2014</th>\n",
       "      <th>sum_2017</th>\n",
       "    </tr>\n",
       "  </thead>\n",
       "  <tbody>\n",
       "    <tr>\n",
       "      <th>0</th>\n",
       "      <td>Alcohol, Non-Food</td>\n",
       "      <td>2403.00</td>\n",
       "      <td>2348.00</td>\n",
       "    </tr>\n",
       "    <tr>\n",
       "      <th>1</th>\n",
       "      <td>Alcoholic Beverages</td>\n",
       "      <td>102410.11</td>\n",
       "      <td>95581.06</td>\n",
       "    </tr>\n",
       "    <tr>\n",
       "      <th>2</th>\n",
       "      <td>Animal Products</td>\n",
       "      <td>11935.65</td>\n",
       "      <td>11547.65</td>\n",
       "    </tr>\n",
       "    <tr>\n",
       "      <th>3</th>\n",
       "      <td>Animal fats</td>\n",
       "      <td>209460.54</td>\n",
       "      <td>269617.53</td>\n",
       "    </tr>\n",
       "    <tr>\n",
       "      <th>4</th>\n",
       "      <td>Apples and products</td>\n",
       "      <td>9499.23</td>\n",
       "      <td>10198.90</td>\n",
       "    </tr>\n",
       "    <tr>\n",
       "      <th>...</th>\n",
       "      <td>...</td>\n",
       "      <td>...</td>\n",
       "      <td>...</td>\n",
       "    </tr>\n",
       "    <tr>\n",
       "      <th>114</th>\n",
       "      <td>Vegetables, Other</td>\n",
       "      <td>155038.96</td>\n",
       "      <td>157752.59</td>\n",
       "    </tr>\n",
       "    <tr>\n",
       "      <th>115</th>\n",
       "      <td>Vegetal Products</td>\n",
       "      <td>107145.19</td>\n",
       "      <td>107655.20</td>\n",
       "    </tr>\n",
       "    <tr>\n",
       "      <th>116</th>\n",
       "      <td>Wheat and products</td>\n",
       "      <td>232670.13</td>\n",
       "      <td>240047.62</td>\n",
       "    </tr>\n",
       "    <tr>\n",
       "      <th>117</th>\n",
       "      <td>Wine</td>\n",
       "      <td>4497.36</td>\n",
       "      <td>4178.02</td>\n",
       "    </tr>\n",
       "    <tr>\n",
       "      <th>118</th>\n",
       "      <td>Yams</td>\n",
       "      <td>200396.96</td>\n",
       "      <td>229174.59</td>\n",
       "    </tr>\n",
       "  </tbody>\n",
       "</table>\n",
       "<p>119 rows × 3 columns</p>\n",
       "</div>"
      ],
      "text/plain": [
       "                    Item   sum_2014   sum_2017\n",
       "0      Alcohol, Non-Food    2403.00    2348.00\n",
       "1    Alcoholic Beverages  102410.11   95581.06\n",
       "2        Animal Products   11935.65   11547.65\n",
       "3            Animal fats  209460.54  269617.53\n",
       "4    Apples and products    9499.23   10198.90\n",
       "..                   ...        ...        ...\n",
       "114    Vegetables, Other  155038.96  157752.59\n",
       "115     Vegetal Products  107145.19  107655.20\n",
       "116   Wheat and products  232670.13  240047.62\n",
       "117                 Wine    4497.36    4178.02\n",
       "118                 Yams  200396.96  229174.59\n",
       "\n",
       "[119 rows x 3 columns]"
      ]
     },
     "execution_count": 21,
     "metadata": {},
     "output_type": "execute_result"
    }
   ],
   "source": [
    "#aggregate sum of items in 2014 and 2017\n",
    "url.groupby(['Item']).agg(\n",
    "     sum_2014 = ('Y2014','sum'),\n",
    "     sum_2017 = ('Y2017','sum'),\n",
    "     ).reset_index()"
   ]
  },
  {
   "cell_type": "code",
   "execution_count": 22,
   "id": "74b25a08",
   "metadata": {},
   "outputs": [
    {
     "name": "stdout",
     "output_type": "stream",
     "text": [
      "135.23596649549236\n",
      "1603.4039839423301\n"
     ]
    }
   ],
   "source": [
    "\n",
    "#mean of year 2015\n",
    "df_mean = url[\"Y2015\"].mean()\n",
    "print(df_mean )\n",
    "#standard deviation of 2015\n",
    "df_std= url[\"Y2015\"].std()\n",
    "print(df_std)"
   ]
  },
  {
   "cell_type": "code",
   "execution_count": null,
   "id": "c9985664",
   "metadata": {},
   "outputs": [],
   "source": []
  },
  {
   "cell_type": "code",
   "execution_count": 94,
   "id": "fd0766c1",
   "metadata": {},
   "outputs": [
    {
     "name": "stdout",
     "output_type": "stream",
     "text": [
      "11833.56\n"
     ]
    }
   ],
   "source": [
    "#third lowest sum in 2018\n",
    "lowest_sum = url.groupby('Element')['Y2018'].sum()\n",
    "sum_low = lowest_sum.sort_values()\n",
    "print(sum_low[2])\n",
    "                                    \n",
    "\n",
    "\n",
    "\n",
    "\n"
   ]
  },
  {
   "cell_type": "code",
   "execution_count": 74,
   "id": "451e5fe4",
   "metadata": {},
   "outputs": [
    {
     "name": "stdout",
     "output_type": "stream",
     "text": [
      "49\n"
     ]
    }
   ],
   "source": [
    "#unique countries\n",
    "unique_countries = url.Area.nunique(dropna = True)\n",
    "print(unique_countries)"
   ]
  },
  {
   "cell_type": "code",
   "execution_count": null,
   "id": "368ec9e5",
   "metadata": {},
   "outputs": [],
   "source": []
  },
  {
   "cell_type": "code",
   "execution_count": 18,
   "id": "409f88e7",
   "metadata": {},
   "outputs": [
    {
     "name": "stdout",
     "output_type": "stream",
     "text": [
      "1931287.75\n"
     ]
    }
   ],
   "source": [
    "#total sum of production in 2014\n",
    "sum_prod = url.groupby('Element')['Y2014'].sum()\n",
    "print(sum_prod[11])"
   ]
  },
  {
   "cell_type": "code",
   "execution_count": 19,
   "id": "0a537ab4",
   "metadata": {},
   "outputs": [
    {
     "name": "stdout",
     "output_type": "stream",
     "text": [
      "195875.0\n"
     ]
    }
   ],
   "source": [
    "#highest element in 2018\n",
    "highest_element= url.groupby('Element')['Y2018'].max()\n",
    "print(highest_element[-2])"
   ]
  },
  {
   "cell_type": "code",
   "execution_count": 108,
   "id": "e3290478",
   "metadata": {},
   "outputs": [
    {
     "name": "stdout",
     "output_type": "stream",
     "text": [
      "Y2014    274144.48\n",
      "Y2015    267018.46\n",
      "Name: Import Quantity, dtype: float64\n",
      "Y2016    286582.78\n",
      "Y2017    294559.09\n",
      "Y2018    287997.09\n",
      "Name: Import Quantity, dtype: float64\n",
      "294559.09\n"
     ]
    },
    {
     "name": "stderr",
     "output_type": "stream",
     "text": [
      "C:\\Users\\TENECE\\AppData\\Local\\Temp/ipykernel_7740/2042191125.py:2: FutureWarning: Indexing with multiple keys (implicitly converted to a tuple of keys) will be deprecated, use a list instead.\n",
      "  highest_import= url.groupby(['Element'])['Y2014','Y2015'].sum().iloc[7]\n",
      "C:\\Users\\TENECE\\AppData\\Local\\Temp/ipykernel_7740/2042191125.py:4: FutureWarning: Indexing with multiple keys (implicitly converted to a tuple of keys) will be deprecated, use a list instead.\n",
      "  highest_sum = url.groupby(['Element'])['Y2016','Y2017','Y2018'].sum().iloc[7]\n"
     ]
    }
   ],
   "source": [
    "#calculate highest sum of import\n",
    "highest_import= url.groupby(['Element'])['Y2014','Y2015'].sum().iloc[7]\n",
    "print(highest_import)\n",
    "highest_sum = url.groupby(['Element'])['Y2016','Y2017','Y2018'].sum().iloc[7]\n",
    "print(highest_sum)\n",
    "print(highest_sum[1])"
   ]
  },
  {
   "cell_type": "code",
   "execution_count": 115,
   "id": "4bd31d97",
   "metadata": {},
   "outputs": [
    {
     "name": "stdout",
     "output_type": "stream",
     "text": [
      "Element Code\n",
      "511     0.999988\n",
      "645     0.997805\n",
      "664     0.999567\n",
      "674     0.999296\n",
      "684     0.997403\n",
      "5072    0.244774\n",
      "5123    0.996677\n",
      "5131    0.986189\n",
      "5142    0.998741\n",
      "5154    0.595009\n",
      "5170    0.998330\n",
      "5171    0.996093\n",
      "5301    0.995645\n",
      "5511    0.988501\n",
      "5521    0.997387\n",
      "5527    0.967869\n",
      "5611    0.987555\n",
      "5911    0.976942\n",
      "Name: (Y2014, Y2015), dtype: float64\n"
     ]
    }
   ],
   "source": [
    "#calculating highest correlation\n",
    "correlation = url.groupby('Element Code')[['Y2014','Y2015', 'Y2016', 'Y2017', \"Y2018\"]].corr().unstack().iloc[:,1]\n",
    "print(correlation)"
   ]
  },
  {
   "cell_type": "code",
   "execution_count": 114,
   "id": "40acd355",
   "metadata": {},
   "outputs": [
    {
     "name": "stdout",
     "output_type": "stream",
     "text": [
      "Y2018    341729.98\n",
      "Name: Algeria, dtype: float64\n"
     ]
    }
   ],
   "source": [
    "#total import quantity in 2018\n",
    "import_quantity = url.groupby('Area')[['Y2018']].sum().iloc\n",
    "print(import_quantity)"
   ]
  },
  {
   "cell_type": "code",
   "execution_count": null,
   "id": "79d804e9",
   "metadata": {},
   "outputs": [],
   "source": []
  },
  {
   "cell_type": "code",
   "execution_count": null,
   "id": "7251a0ed",
   "metadata": {},
   "outputs": [],
   "source": []
  },
  {
   "cell_type": "code",
   "execution_count": null,
   "id": "c1b02a2c",
   "metadata": {},
   "outputs": [],
   "source": []
  }
 ],
 "metadata": {
  "kernelspec": {
   "display_name": "Python 3 (ipykernel)",
   "language": "python",
   "name": "python3"
  },
  "language_info": {
   "codemirror_mode": {
    "name": "ipython",
    "version": 3
   },
   "file_extension": ".py",
   "mimetype": "text/x-python",
   "name": "python",
   "nbconvert_exporter": "python",
   "pygments_lexer": "ipython3",
   "version": "3.9.7"
  }
 },
 "nbformat": 4,
 "nbformat_minor": 5
}
